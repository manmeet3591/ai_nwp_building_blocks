{
  "nbformat": 4,
  "nbformat_minor": 0,
  "metadata": {
    "colab": {
      "provenance": []
    },
    "kernelspec": {
      "name": "python3",
      "display_name": "Python 3"
    },
    "language_info": {
      "name": "python"
    }
  },
  "cells": [
    {
      "cell_type": "code",
      "execution_count": 1,
      "metadata": {
        "colab": {
          "base_uri": "https://localhost:8080/"
        },
        "id": "MnldDwoLOrnI",
        "outputId": "02841332-b503-44f2-cca0-9495f0ecf3f1"
      },
      "outputs": [
        {
          "output_type": "stream",
          "name": "stdout",
          "text": [
            "--2025-04-17 15:11:25--  https://github.com/NVlabs/earth2grid/archive/refs/tags/v2024.8.1.tar.gz\n",
            "Resolving github.com (github.com)... 140.82.116.3\n",
            "Connecting to github.com (github.com)|140.82.116.3|:443... connected.\n",
            "HTTP request sent, awaiting response... 302 Found\n",
            "Location: https://codeload.github.com/NVlabs/earth2grid/tar.gz/refs/tags/v2024.8.1 [following]\n",
            "--2025-04-17 15:11:25--  https://codeload.github.com/NVlabs/earth2grid/tar.gz/refs/tags/v2024.8.1\n",
            "Resolving codeload.github.com (codeload.github.com)... 140.82.116.10\n",
            "Connecting to codeload.github.com (codeload.github.com)|140.82.116.10|:443... connected.\n",
            "HTTP request sent, awaiting response... 200 OK\n",
            "Length: unspecified [application/x-gzip]\n",
            "Saving to: ‘v2024.8.1.tar.gz’\n",
            "\n",
            "v2024.8.1.tar.gz        [ <=>                ] 152.13K  --.-KB/s    in 0.02s   \n",
            "\n",
            "2025-04-17 15:11:25 (6.52 MB/s) - ‘v2024.8.1.tar.gz’ saved [155784]\n",
            "\n"
          ]
        }
      ],
      "source": [
        "!wget https://github.com/NVlabs/earth2grid/archive/refs/tags/v2024.8.1.tar.gz"
      ]
    },
    {
      "cell_type": "code",
      "source": [
        "!ls"
      ],
      "metadata": {
        "colab": {
          "base_uri": "https://localhost:8080/"
        },
        "id": "HWjP9wbiOz6a",
        "outputId": "0ee10433-7ee1-43bd-c544-33929f7f877a"
      },
      "execution_count": 2,
      "outputs": [
        {
          "output_type": "stream",
          "name": "stdout",
          "text": [
            "sample_data  v2024.8.1.tar.gz\n"
          ]
        }
      ]
    },
    {
      "cell_type": "code",
      "source": [
        "!tar -xvf v2024.8.1.tar.gz"
      ],
      "metadata": {
        "colab": {
          "base_uri": "https://localhost:8080/"
        },
        "id": "0peoLirJQFsP",
        "outputId": "fb0a36df-a38c-4771-940c-ead61991f2c7"
      },
      "execution_count": 3,
      "outputs": [
        {
          "output_type": "stream",
          "name": "stdout",
          "text": [
            "earth2grid-2024.8.1/\n",
            "earth2grid-2024.8.1/.bumpversion.cfg\n",
            "earth2grid-2024.8.1/.editorconfig\n",
            "earth2grid-2024.8.1/.github/\n",
            "earth2grid-2024.8.1/.github/ISSUE_TEMPLATE.md\n",
            "earth2grid-2024.8.1/.github/workflows/\n",
            "earth2grid-2024.8.1/.github/workflows/ci.yml\n",
            "earth2grid-2024.8.1/.gitignore\n",
            "earth2grid-2024.8.1/.gitlab-ci.yml\n",
            "earth2grid-2024.8.1/.pre-commit-config.yaml\n",
            "earth2grid-2024.8.1/CHANGELOG.md\n",
            "earth2grid-2024.8.1/CONTRIBUTING.md\n",
            "earth2grid-2024.8.1/LICENSE.txt\n",
            "earth2grid-2024.8.1/README.md\n",
            "earth2grid-2024.8.1/docs/\n",
            "earth2grid-2024.8.1/docs/.gitignore\n",
            "earth2grid-2024.8.1/docs/Makefile\n",
            "earth2grid-2024.8.1/docs/api.rst\n",
            "earth2grid-2024.8.1/docs/changelog.md\n",
            "earth2grid-2024.8.1/docs/conf.py\n",
            "earth2grid-2024.8.1/docs/contributing.md\n",
            "earth2grid-2024.8.1/docs/image_scraper.py\n",
            "earth2grid-2024.8.1/docs/img/\n",
            "earth2grid-2024.8.1/docs/img/image.jpg\n",
            "earth2grid-2024.8.1/docs/index.rst\n",
            "earth2grid-2024.8.1/docs/installation.md\n",
            "earth2grid-2024.8.1/docs/make.bat\n",
            "earth2grid-2024.8.1/docs/push_docs.sh\n",
            "earth2grid-2024.8.1/docs/usage.md\n",
            "earth2grid-2024.8.1/earth2grid/\n",
            "earth2grid-2024.8.1/earth2grid/__init__.py\n",
            "earth2grid-2024.8.1/earth2grid/_regrid.py\n",
            "earth2grid-2024.8.1/earth2grid/base.py\n",
            "earth2grid-2024.8.1/earth2grid/csrc/\n",
            "earth2grid-2024.8.1/earth2grid/csrc/healpix_bare_wrapper.cpp\n",
            "earth2grid-2024.8.1/earth2grid/csrc/healpixpad/\n",
            "earth2grid-2024.8.1/earth2grid/csrc/healpixpad/cudamacro.h\n",
            "earth2grid-2024.8.1/earth2grid/csrc/healpixpad/healpixpad.h\n",
            "earth2grid-2024.8.1/earth2grid/csrc/healpixpad/healpixpad_cuda.cpp\n",
            "earth2grid-2024.8.1/earth2grid/csrc/healpixpad/healpixpad_cuda_bwd.cu\n",
            "earth2grid-2024.8.1/earth2grid/csrc/healpixpad/healpixpad_cuda_fwd.cu\n",
            "earth2grid-2024.8.1/earth2grid/csrc/interpolation.h\n",
            "earth2grid-2024.8.1/earth2grid/healpix.py\n",
            "earth2grid-2024.8.1/earth2grid/healpix_bare.py\n",
            "earth2grid-2024.8.1/earth2grid/latlon.py\n",
            "earth2grid-2024.8.1/earth2grid/third_party/\n",
            "earth2grid-2024.8.1/earth2grid/third_party/healpix_bare/\n",
            "earth2grid-2024.8.1/earth2grid/third_party/healpix_bare/LICENSE\n",
            "earth2grid-2024.8.1/earth2grid/third_party/healpix_bare/NEWS\n",
            "earth2grid-2024.8.1/earth2grid/third_party/healpix_bare/README\n",
            "earth2grid-2024.8.1/earth2grid/third_party/healpix_bare/healpix_bare.c\n",
            "earth2grid-2024.8.1/earth2grid/third_party/healpix_bare/healpix_bare.h\n",
            "earth2grid-2024.8.1/earth2grid/third_party/healpix_bare/test.c\n",
            "earth2grid-2024.8.1/earth2grid/third_party/zephyr/\n",
            "earth2grid-2024.8.1/earth2grid/third_party/zephyr/LICENSE\n",
            "earth2grid-2024.8.1/earth2grid/third_party/zephyr/healpix.py\n",
            "earth2grid-2024.8.1/earth2grid/third_party/zephyr/test_healpix_pad.py\n",
            "earth2grid-2024.8.1/examples/\n",
            "earth2grid-2024.8.1/examples/sphinx_gallery/\n",
            "earth2grid-2024.8.1/examples/sphinx_gallery/README.rst\n",
            "earth2grid-2024.8.1/examples/sphinx_gallery/hpx2grid.py\n",
            "earth2grid-2024.8.1/examples/sphinx_gallery/latlon_to_healpix.py\n",
            "earth2grid-2024.8.1/examples/sphinx_gallery/pyvista_grids.py\n",
            "earth2grid-2024.8.1/makefile\n",
            "earth2grid-2024.8.1/pyproject.toml\n",
            "earth2grid-2024.8.1/setup.cfg\n",
            "earth2grid-2024.8.1/setup.py\n",
            "earth2grid-2024.8.1/tests/\n",
            "earth2grid-2024.8.1/tests/__init__.py\n",
            "earth2grid-2024.8.1/tests/_license/\n",
            "earth2grid-2024.8.1/tests/_license/config.json\n",
            "earth2grid-2024.8.1/tests/_license/header.txt\n",
            "earth2grid-2024.8.1/tests/_license/header_check.py\n",
            "earth2grid-2024.8.1/tests/_regtest_outputs/\n",
            "earth2grid-2024.8.1/tests/_regtest_outputs/test_healpix_bare.test_boundaries.out\n",
            "earth2grid-2024.8.1/tests/_regtest_outputs/test_healpix_bare.test_hpc2loc.out\n",
            "earth2grid-2024.8.1/tests/_regtest_outputs/test_healpix_bare.test_pix2ang[False-False].out\n",
            "earth2grid-2024.8.1/tests/_regtest_outputs/test_healpix_bare.test_pix2ang[False-True].out\n",
            "earth2grid-2024.8.1/tests/_regtest_outputs/test_healpix_bare.test_pix2ang[True-False].out\n",
            "earth2grid-2024.8.1/tests/_regtest_outputs/test_healpix_bare.test_pix2ang[True-True].out\n",
            "earth2grid-2024.8.1/tests/test_earth2grid.py\n",
            "earth2grid-2024.8.1/tests/test_healpix.py\n",
            "earth2grid-2024.8.1/tests/test_healpix_bare.py\n",
            "earth2grid-2024.8.1/tests/test_latlon.py\n",
            "earth2grid-2024.8.1/tests/test_regrid.py\n"
          ]
        }
      ]
    },
    {
      "cell_type": "code",
      "source": [
        "!ls"
      ],
      "metadata": {
        "colab": {
          "base_uri": "https://localhost:8080/"
        },
        "id": "2k0rviOvTl1Y",
        "outputId": "3e337a62-8254-4657-ca17-c140be2dc434"
      },
      "execution_count": 4,
      "outputs": [
        {
          "output_type": "stream",
          "name": "stdout",
          "text": [
            "earth2grid-2024.8.1  sample_data  v2024.8.1.tar.gz\n"
          ]
        }
      ]
    },
    {
      "cell_type": "code",
      "source": [
        "!pip install --no-build-isolation /content/earth2grid-2024.8.1"
      ],
      "metadata": {
        "colab": {
          "base_uri": "https://localhost:8080/"
        },
        "id": "O_J_yQDtQBAa",
        "outputId": "8c950810-cf17-4e3b-ce0e-98aa58291546"
      },
      "execution_count": 5,
      "outputs": [
        {
          "output_type": "stream",
          "name": "stdout",
          "text": [
            "Processing ./earth2grid-2024.8.1\n",
            "  Preparing metadata (pyproject.toml) ... \u001b[?25l\u001b[?25hdone\n",
            "Requirement already satisfied: einops>=0.7.0 in /usr/local/lib/python3.11/dist-packages (from earth2-grid==2024.8.1) (0.8.1)\n",
            "Collecting netCDF4>=1.6.5 (from earth2-grid==2024.8.1)\n",
            "  Downloading netCDF4-1.7.2-cp311-cp311-manylinux_2_17_x86_64.manylinux2014_x86_64.whl.metadata (1.8 kB)\n",
            "Requirement already satisfied: numpy>=1.23.3 in /usr/local/lib/python3.11/dist-packages (from earth2-grid==2024.8.1) (2.0.2)\n",
            "Requirement already satisfied: torch>=2.0.1 in /usr/local/lib/python3.11/dist-packages (from earth2-grid==2024.8.1) (2.6.0+cu124)\n",
            "Collecting cftime (from netCDF4>=1.6.5->earth2-grid==2024.8.1)\n",
            "  Downloading cftime-1.6.4.post1-cp311-cp311-manylinux_2_17_x86_64.manylinux2014_x86_64.whl.metadata (8.7 kB)\n",
            "Requirement already satisfied: certifi in /usr/local/lib/python3.11/dist-packages (from netCDF4>=1.6.5->earth2-grid==2024.8.1) (2025.1.31)\n",
            "Requirement already satisfied: filelock in /usr/local/lib/python3.11/dist-packages (from torch>=2.0.1->earth2-grid==2024.8.1) (3.18.0)\n",
            "Requirement already satisfied: typing-extensions>=4.10.0 in /usr/local/lib/python3.11/dist-packages (from torch>=2.0.1->earth2-grid==2024.8.1) (4.13.1)\n",
            "Requirement already satisfied: networkx in /usr/local/lib/python3.11/dist-packages (from torch>=2.0.1->earth2-grid==2024.8.1) (3.4.2)\n",
            "Requirement already satisfied: jinja2 in /usr/local/lib/python3.11/dist-packages (from torch>=2.0.1->earth2-grid==2024.8.1) (3.1.6)\n",
            "Requirement already satisfied: fsspec in /usr/local/lib/python3.11/dist-packages (from torch>=2.0.1->earth2-grid==2024.8.1) (2025.3.2)\n",
            "Collecting nvidia-cuda-nvrtc-cu12==12.4.127 (from torch>=2.0.1->earth2-grid==2024.8.1)\n",
            "  Downloading nvidia_cuda_nvrtc_cu12-12.4.127-py3-none-manylinux2014_x86_64.whl.metadata (1.5 kB)\n",
            "Collecting nvidia-cuda-runtime-cu12==12.4.127 (from torch>=2.0.1->earth2-grid==2024.8.1)\n",
            "  Downloading nvidia_cuda_runtime_cu12-12.4.127-py3-none-manylinux2014_x86_64.whl.metadata (1.5 kB)\n",
            "Collecting nvidia-cuda-cupti-cu12==12.4.127 (from torch>=2.0.1->earth2-grid==2024.8.1)\n",
            "  Downloading nvidia_cuda_cupti_cu12-12.4.127-py3-none-manylinux2014_x86_64.whl.metadata (1.6 kB)\n",
            "Collecting nvidia-cudnn-cu12==9.1.0.70 (from torch>=2.0.1->earth2-grid==2024.8.1)\n",
            "  Downloading nvidia_cudnn_cu12-9.1.0.70-py3-none-manylinux2014_x86_64.whl.metadata (1.6 kB)\n",
            "Collecting nvidia-cublas-cu12==12.4.5.8 (from torch>=2.0.1->earth2-grid==2024.8.1)\n",
            "  Downloading nvidia_cublas_cu12-12.4.5.8-py3-none-manylinux2014_x86_64.whl.metadata (1.5 kB)\n",
            "Collecting nvidia-cufft-cu12==11.2.1.3 (from torch>=2.0.1->earth2-grid==2024.8.1)\n",
            "  Downloading nvidia_cufft_cu12-11.2.1.3-py3-none-manylinux2014_x86_64.whl.metadata (1.5 kB)\n",
            "Collecting nvidia-curand-cu12==10.3.5.147 (from torch>=2.0.1->earth2-grid==2024.8.1)\n",
            "  Downloading nvidia_curand_cu12-10.3.5.147-py3-none-manylinux2014_x86_64.whl.metadata (1.5 kB)\n",
            "Collecting nvidia-cusolver-cu12==11.6.1.9 (from torch>=2.0.1->earth2-grid==2024.8.1)\n",
            "  Downloading nvidia_cusolver_cu12-11.6.1.9-py3-none-manylinux2014_x86_64.whl.metadata (1.6 kB)\n",
            "Collecting nvidia-cusparse-cu12==12.3.1.170 (from torch>=2.0.1->earth2-grid==2024.8.1)\n",
            "  Downloading nvidia_cusparse_cu12-12.3.1.170-py3-none-manylinux2014_x86_64.whl.metadata (1.6 kB)\n",
            "Requirement already satisfied: nvidia-cusparselt-cu12==0.6.2 in /usr/local/lib/python3.11/dist-packages (from torch>=2.0.1->earth2-grid==2024.8.1) (0.6.2)\n",
            "Requirement already satisfied: nvidia-nccl-cu12==2.21.5 in /usr/local/lib/python3.11/dist-packages (from torch>=2.0.1->earth2-grid==2024.8.1) (2.21.5)\n",
            "Requirement already satisfied: nvidia-nvtx-cu12==12.4.127 in /usr/local/lib/python3.11/dist-packages (from torch>=2.0.1->earth2-grid==2024.8.1) (12.4.127)\n",
            "Collecting nvidia-nvjitlink-cu12==12.4.127 (from torch>=2.0.1->earth2-grid==2024.8.1)\n",
            "  Downloading nvidia_nvjitlink_cu12-12.4.127-py3-none-manylinux2014_x86_64.whl.metadata (1.5 kB)\n",
            "Requirement already satisfied: triton==3.2.0 in /usr/local/lib/python3.11/dist-packages (from torch>=2.0.1->earth2-grid==2024.8.1) (3.2.0)\n",
            "Requirement already satisfied: sympy==1.13.1 in /usr/local/lib/python3.11/dist-packages (from torch>=2.0.1->earth2-grid==2024.8.1) (1.13.1)\n",
            "Requirement already satisfied: mpmath<1.4,>=1.1.0 in /usr/local/lib/python3.11/dist-packages (from sympy==1.13.1->torch>=2.0.1->earth2-grid==2024.8.1) (1.3.0)\n",
            "Requirement already satisfied: MarkupSafe>=2.0 in /usr/local/lib/python3.11/dist-packages (from jinja2->torch>=2.0.1->earth2-grid==2024.8.1) (3.0.2)\n",
            "Downloading netCDF4-1.7.2-cp311-cp311-manylinux_2_17_x86_64.manylinux2014_x86_64.whl (9.3 MB)\n",
            "\u001b[2K   \u001b[90m━━━━━━━━━━━━━━━━━━━━━━━━━━━━━━━━━━━━━━━━\u001b[0m \u001b[32m9.3/9.3 MB\u001b[0m \u001b[31m62.8 MB/s\u001b[0m eta \u001b[36m0:00:00\u001b[0m\n",
            "\u001b[?25hDownloading nvidia_cublas_cu12-12.4.5.8-py3-none-manylinux2014_x86_64.whl (363.4 MB)\n",
            "\u001b[2K   \u001b[90m━━━━━━━━━━━━━━━━━━━━━━━━━━━━━━━━━━━━━━━━\u001b[0m \u001b[32m363.4/363.4 MB\u001b[0m \u001b[31m3.8 MB/s\u001b[0m eta \u001b[36m0:00:00\u001b[0m\n",
            "\u001b[?25hDownloading nvidia_cuda_cupti_cu12-12.4.127-py3-none-manylinux2014_x86_64.whl (13.8 MB)\n",
            "\u001b[2K   \u001b[90m━━━━━━━━━━━━━━━━━━━━━━━━━━━━━━━━━━━━━━━━\u001b[0m \u001b[32m13.8/13.8 MB\u001b[0m \u001b[31m80.5 MB/s\u001b[0m eta \u001b[36m0:00:00\u001b[0m\n",
            "\u001b[?25hDownloading nvidia_cuda_nvrtc_cu12-12.4.127-py3-none-manylinux2014_x86_64.whl (24.6 MB)\n",
            "\u001b[2K   \u001b[90m━━━━━━━━━━━━━━━━━━━━━━━━━━━━━━━━━━━━━━━━\u001b[0m \u001b[32m24.6/24.6 MB\u001b[0m \u001b[31m60.8 MB/s\u001b[0m eta \u001b[36m0:00:00\u001b[0m\n",
            "\u001b[?25hDownloading nvidia_cuda_runtime_cu12-12.4.127-py3-none-manylinux2014_x86_64.whl (883 kB)\n",
            "\u001b[2K   \u001b[90m━━━━━━━━━━━━━━━━━━━━━━━━━━━━━━━━━━━━━━━━\u001b[0m \u001b[32m883.7/883.7 kB\u001b[0m \u001b[31m41.9 MB/s\u001b[0m eta \u001b[36m0:00:00\u001b[0m\n",
            "\u001b[?25hDownloading nvidia_cudnn_cu12-9.1.0.70-py3-none-manylinux2014_x86_64.whl (664.8 MB)\n",
            "\u001b[2K   \u001b[90m━━━━━━━━━━━━━━━━━━━━━━━━━━━━━━━━━━━━━━━━\u001b[0m \u001b[32m664.8/664.8 MB\u001b[0m \u001b[31m2.0 MB/s\u001b[0m eta \u001b[36m0:00:00\u001b[0m\n",
            "\u001b[?25hDownloading nvidia_cufft_cu12-11.2.1.3-py3-none-manylinux2014_x86_64.whl (211.5 MB)\n",
            "\u001b[2K   \u001b[90m━━━━━━━━━━━━━━━━━━━━━━━━━━━━━━━━━━━━━━━━\u001b[0m \u001b[32m211.5/211.5 MB\u001b[0m \u001b[31m5.1 MB/s\u001b[0m eta \u001b[36m0:00:00\u001b[0m\n",
            "\u001b[?25hDownloading nvidia_curand_cu12-10.3.5.147-py3-none-manylinux2014_x86_64.whl (56.3 MB)\n",
            "\u001b[2K   \u001b[90m━━━━━━━━━━━━━━━━━━━━━━━━━━━━━━━━━━━━━━━━\u001b[0m \u001b[32m56.3/56.3 MB\u001b[0m \u001b[31m11.3 MB/s\u001b[0m eta \u001b[36m0:00:00\u001b[0m\n",
            "\u001b[?25hDownloading nvidia_cusolver_cu12-11.6.1.9-py3-none-manylinux2014_x86_64.whl (127.9 MB)\n",
            "\u001b[2K   \u001b[90m━━━━━━━━━━━━━━━━━━━━━━━━━━━━━━━━━━━━━━━━\u001b[0m \u001b[32m127.9/127.9 MB\u001b[0m \u001b[31m7.4 MB/s\u001b[0m eta \u001b[36m0:00:00\u001b[0m\n",
            "\u001b[?25hDownloading nvidia_cusparse_cu12-12.3.1.170-py3-none-manylinux2014_x86_64.whl (207.5 MB)\n",
            "\u001b[2K   \u001b[90m━━━━━━━━━━━━━━━━━━━━━━━━━━━━━━━━━━━━━━━━\u001b[0m \u001b[32m207.5/207.5 MB\u001b[0m \u001b[31m6.0 MB/s\u001b[0m eta \u001b[36m0:00:00\u001b[0m\n",
            "\u001b[?25hDownloading nvidia_nvjitlink_cu12-12.4.127-py3-none-manylinux2014_x86_64.whl (21.1 MB)\n",
            "\u001b[2K   \u001b[90m━━━━━━━━━━━━━━━━━━━━━━━━━━━━━━━━━━━━━━━━\u001b[0m \u001b[32m21.1/21.1 MB\u001b[0m \u001b[31m49.8 MB/s\u001b[0m eta \u001b[36m0:00:00\u001b[0m\n",
            "\u001b[?25hDownloading cftime-1.6.4.post1-cp311-cp311-manylinux_2_17_x86_64.manylinux2014_x86_64.whl (1.4 MB)\n",
            "\u001b[2K   \u001b[90m━━━━━━━━━━━━━━━━━━━━━━━━━━━━━━━━━━━━━━━━\u001b[0m \u001b[32m1.4/1.4 MB\u001b[0m \u001b[31m44.6 MB/s\u001b[0m eta \u001b[36m0:00:00\u001b[0m\n",
            "\u001b[?25hBuilding wheels for collected packages: earth2-grid\n",
            "  Building wheel for earth2-grid (pyproject.toml) ... \u001b[?25l\u001b[?25hdone\n",
            "  Created wheel for earth2-grid: filename=earth2_grid-2024.8.1-cp311-cp311-linux_x86_64.whl size=2867184 sha256=7e3576ce930d0bd85828abc458b1b797280446c03ae3586d4f623303cc6b7051\n",
            "  Stored in directory: /root/.cache/pip/wheels/4f/7d/8e/3c2e744f542d888e7a146d6216de0226288846d2d26ccc8fc4\n",
            "Successfully built earth2-grid\n",
            "Installing collected packages: nvidia-nvjitlink-cu12, nvidia-curand-cu12, nvidia-cufft-cu12, nvidia-cuda-runtime-cu12, nvidia-cuda-nvrtc-cu12, nvidia-cuda-cupti-cu12, nvidia-cublas-cu12, cftime, nvidia-cusparse-cu12, nvidia-cudnn-cu12, netCDF4, nvidia-cusolver-cu12, earth2-grid\n",
            "  Attempting uninstall: nvidia-nvjitlink-cu12\n",
            "    Found existing installation: nvidia-nvjitlink-cu12 12.5.82\n",
            "    Uninstalling nvidia-nvjitlink-cu12-12.5.82:\n",
            "      Successfully uninstalled nvidia-nvjitlink-cu12-12.5.82\n",
            "  Attempting uninstall: nvidia-curand-cu12\n",
            "    Found existing installation: nvidia-curand-cu12 10.3.6.82\n",
            "    Uninstalling nvidia-curand-cu12-10.3.6.82:\n",
            "      Successfully uninstalled nvidia-curand-cu12-10.3.6.82\n",
            "  Attempting uninstall: nvidia-cufft-cu12\n",
            "    Found existing installation: nvidia-cufft-cu12 11.2.3.61\n",
            "    Uninstalling nvidia-cufft-cu12-11.2.3.61:\n",
            "      Successfully uninstalled nvidia-cufft-cu12-11.2.3.61\n",
            "  Attempting uninstall: nvidia-cuda-runtime-cu12\n",
            "    Found existing installation: nvidia-cuda-runtime-cu12 12.5.82\n",
            "    Uninstalling nvidia-cuda-runtime-cu12-12.5.82:\n",
            "      Successfully uninstalled nvidia-cuda-runtime-cu12-12.5.82\n",
            "  Attempting uninstall: nvidia-cuda-nvrtc-cu12\n",
            "    Found existing installation: nvidia-cuda-nvrtc-cu12 12.5.82\n",
            "    Uninstalling nvidia-cuda-nvrtc-cu12-12.5.82:\n",
            "      Successfully uninstalled nvidia-cuda-nvrtc-cu12-12.5.82\n",
            "  Attempting uninstall: nvidia-cuda-cupti-cu12\n",
            "    Found existing installation: nvidia-cuda-cupti-cu12 12.5.82\n",
            "    Uninstalling nvidia-cuda-cupti-cu12-12.5.82:\n",
            "      Successfully uninstalled nvidia-cuda-cupti-cu12-12.5.82\n",
            "  Attempting uninstall: nvidia-cublas-cu12\n",
            "    Found existing installation: nvidia-cublas-cu12 12.5.3.2\n",
            "    Uninstalling nvidia-cublas-cu12-12.5.3.2:\n",
            "      Successfully uninstalled nvidia-cublas-cu12-12.5.3.2\n",
            "  Attempting uninstall: nvidia-cusparse-cu12\n",
            "    Found existing installation: nvidia-cusparse-cu12 12.5.1.3\n",
            "    Uninstalling nvidia-cusparse-cu12-12.5.1.3:\n",
            "      Successfully uninstalled nvidia-cusparse-cu12-12.5.1.3\n",
            "  Attempting uninstall: nvidia-cudnn-cu12\n",
            "    Found existing installation: nvidia-cudnn-cu12 9.3.0.75\n",
            "    Uninstalling nvidia-cudnn-cu12-9.3.0.75:\n",
            "      Successfully uninstalled nvidia-cudnn-cu12-9.3.0.75\n",
            "  Attempting uninstall: nvidia-cusolver-cu12\n",
            "    Found existing installation: nvidia-cusolver-cu12 11.6.3.83\n",
            "    Uninstalling nvidia-cusolver-cu12-11.6.3.83:\n",
            "      Successfully uninstalled nvidia-cusolver-cu12-11.6.3.83\n",
            "Successfully installed cftime-1.6.4.post1 earth2-grid-2024.8.1 netCDF4-1.7.2 nvidia-cublas-cu12-12.4.5.8 nvidia-cuda-cupti-cu12-12.4.127 nvidia-cuda-nvrtc-cu12-12.4.127 nvidia-cuda-runtime-cu12-12.4.127 nvidia-cudnn-cu12-9.1.0.70 nvidia-cufft-cu12-11.2.1.3 nvidia-curand-cu12-10.3.5.147 nvidia-cusolver-cu12-11.6.1.9 nvidia-cusparse-cu12-12.3.1.170 nvidia-nvjitlink-cu12-12.4.127\n"
          ]
        }
      ]
    },
    {
      "cell_type": "code",
      "source": [
        "import earth2grid"
      ],
      "metadata": {
        "colab": {
          "base_uri": "https://localhost:8080/"
        },
        "id": "sOgkq8VLQHcf",
        "outputId": "9813c865-cbe4-442e-ccc6-021097be0956"
      },
      "execution_count": 6,
      "outputs": [
        {
          "output_type": "stream",
          "name": "stderr",
          "text": [
            "/usr/local/lib/python3.11/dist-packages/earth2grid/healpix.py:58: UserWarning: healpixpad_cuda module not available, reverting to CPU for all padding routines\n",
            "  warnings.warn(\"healpixpad_cuda module not available, reverting to CPU for all padding routines\")\n"
          ]
        }
      ]
    },
    {
      "cell_type": "code",
      "source": [
        "import torch"
      ],
      "metadata": {
        "id": "ujTmcwfyXfPc"
      },
      "execution_count": 7,
      "outputs": []
    },
    {
      "cell_type": "code",
      "source": [
        "level = 6"
      ],
      "metadata": {
        "id": "uWWgOZh_XhXy"
      },
      "execution_count": 8,
      "outputs": []
    },
    {
      "cell_type": "code",
      "source": [
        "hpx = earth2grid.healpix.Grid(level=level, pixel_order=earth2grid.healpix.XY())"
      ],
      "metadata": {
        "id": "R_5mSin7XlWS"
      },
      "execution_count": 9,
      "outputs": []
    },
    {
      "cell_type": "code",
      "source": [
        "src = earth2grid.latlon.equiangular_lat_lon_grid(32, 64)"
      ],
      "metadata": {
        "id": "qiydjj6-enYd"
      },
      "execution_count": 10,
      "outputs": []
    },
    {
      "cell_type": "code",
      "source": [
        "z_torch = torch.cos(torch.deg2rad(torch.tensor(src.lat)))"
      ],
      "metadata": {
        "id": "JZlqjbFleqej"
      },
      "execution_count": 12,
      "outputs": []
    },
    {
      "cell_type": "code",
      "source": [
        "z_torch = z_torch.broadcast_to(src.shape)"
      ],
      "metadata": {
        "id": "TgwXrNdOerD7"
      },
      "execution_count": 13,
      "outputs": []
    },
    {
      "cell_type": "code",
      "source": [
        "regrid = earth2grid.get_regridder(src, hpx)"
      ],
      "metadata": {
        "id": "zNjGMXvxexA6"
      },
      "execution_count": 14,
      "outputs": []
    },
    {
      "cell_type": "code",
      "source": [
        "z_hpx = regrid(z_torch)"
      ],
      "metadata": {
        "id": "KLPuFaz3eyvj"
      },
      "execution_count": 15,
      "outputs": []
    },
    {
      "cell_type": "code",
      "source": [
        "z_hpx.shape"
      ],
      "metadata": {
        "colab": {
          "base_uri": "https://localhost:8080/"
        },
        "id": "srP9gdfCe2vD",
        "outputId": "df3ec8ae-a087-452e-9d65-d853f7cde28a"
      },
      "execution_count": 16,
      "outputs": [
        {
          "output_type": "execute_result",
          "data": {
            "text/plain": [
              "torch.Size([49152])"
            ]
          },
          "metadata": {},
          "execution_count": 16
        }
      ]
    },
    {
      "cell_type": "code",
      "source": [
        "nside = 2**level"
      ],
      "metadata": {
        "id": "VeEE3K6We5FC"
      },
      "execution_count": 17,
      "outputs": []
    },
    {
      "cell_type": "code",
      "source": [
        "reshaped = z_hpx.reshape(12, nside, nside)"
      ],
      "metadata": {
        "id": "suGAn9XAe8Yr"
      },
      "execution_count": 18,
      "outputs": []
    },
    {
      "cell_type": "code",
      "source": [
        "lat_r = hpx.lat.reshape(12, nside, nside)"
      ],
      "metadata": {
        "id": "0rM395P3e-CU"
      },
      "execution_count": 19,
      "outputs": []
    },
    {
      "cell_type": "code",
      "source": [
        "lon_r = hpx.lon.reshape(12, nside, nside)"
      ],
      "metadata": {
        "id": "2ryXB2PLe_iz"
      },
      "execution_count": 20,
      "outputs": []
    },
    {
      "cell_type": "code",
      "source": [
        "reshaped.shape"
      ],
      "metadata": {
        "colab": {
          "base_uri": "https://localhost:8080/"
        },
        "id": "WBGlqoWVfB1D",
        "outputId": "25f8ae23-c934-4270-a58a-52d86a8360f0"
      },
      "execution_count": 21,
      "outputs": [
        {
          "output_type": "execute_result",
          "data": {
            "text/plain": [
              "torch.Size([12, 64, 64])"
            ]
          },
          "metadata": {},
          "execution_count": 21
        }
      ]
    },
    {
      "cell_type": "code",
      "source": [
        "import numpy as np\n",
        "import torch\n",
        "\n",
        "import earth2grid\n",
        "\n",
        "device = \"cpu\"\n",
        "\n",
        "\n",
        "# the source grid (from 90N to 90S and 0E to 360E)\n",
        "ll = earth2grid.latlon.equiangular_lat_lon_grid(721, 1440)\n",
        "\n",
        "# a 2d grid of target lat lons\n",
        "target_lat = np.linspace(30, 50, 32)\n",
        "target_lon = np.linspace(100, 120, 64)\n",
        "target_lat, target_lon = np.meshgrid(target_lat, target_lon)\n",
        "\n",
        "# Some source data on the original grid\n",
        "data = torch.ones([721, 1440]).to(device)\n",
        "\n",
        "# Create a bilinear regridding object earth2grid\n",
        "regrid = ll.get_bilinear_regridder_to(target_lat, target_lon)\n",
        "\n",
        "# need to move the weights to same device and dtype as data\n",
        "regrid.to(data)\n",
        "\n",
        "# perform the regridding\n",
        "out = regrid(data)\n",
        "assert out.shape == target_lat.shape  # noqa\n",
        "print(\"data shape\", out.shape)"
      ],
      "metadata": {
        "colab": {
          "base_uri": "https://localhost:8080/"
        },
        "id": "VeslZp-5fGAs",
        "outputId": "03c8f715-3826-4b6d-8098-a6b61c9d822c"
      },
      "execution_count": 24,
      "outputs": [
        {
          "output_type": "stream",
          "name": "stdout",
          "text": [
            "data shape torch.Size([64, 32])\n"
          ]
        }
      ]
    },
    {
      "cell_type": "markdown",
      "source": [
        "# lat-lon to healpix"
      ],
      "metadata": {
        "id": "_3ztDLbAhGhj"
      }
    },
    {
      "cell_type": "code",
      "source": [
        "import torch\n",
        "import earth2grid\n",
        "\n",
        "# Device setup (optional, useful if using GPU)\n",
        "device = \"cpu\"\n",
        "\n",
        "# 1. Create source lat-lon grid (matches shape of data)\n",
        "# 721 latitudes from 90 to -90, 1440 longitudes from 0 to 360\n",
        "src = earth2grid.latlon.equiangular_lat_lon_grid(721, 1440)\n",
        "\n",
        "# 2. Create some data on the source grid\n",
        "data = torch.ones([721, 1440], device=device)\n",
        "\n",
        "# 3. Create HEALPix grid\n",
        "level = 6  # this gives nside=64 → 49152 total pixels\n",
        "hpx = earth2grid.healpix.Grid(level=level, pixel_order=earth2grid.healpix.XY())\n",
        "\n",
        "# 4. Create regridder from lat-lon to HEALPix\n",
        "regrid = earth2grid.get_regridder(src, hpx)\n",
        "\n",
        "# 5. Move weights to same device and dtype as data\n",
        "regrid.to(data)\n",
        "\n",
        "# 6. Perform the regridding\n",
        "data_hpx = regrid(data)  # output is 1D torch tensor of length 49152\n",
        "\n",
        "# 7. (Optional) Reshape to [12, 64, 64] for HEALPix faces\n",
        "nside = 2**level\n",
        "data_faces = data_hpx.reshape(12, nside, nside)\n",
        "\n",
        "# 8. Print shapes\n",
        "print(\"Original data shape:\", data.shape)\n",
        "print(\"Regridded HEALPix shape (flat):\", data_hpx.shape)\n",
        "print(\"Regridded HEALPix shape (faces):\", data_faces.shape)"
      ],
      "metadata": {
        "colab": {
          "base_uri": "https://localhost:8080/"
        },
        "id": "YGgpQ8wYfSuU",
        "outputId": "7c9fe523-9845-46a0-bf46-0d52abfdd5bb"
      },
      "execution_count": 28,
      "outputs": [
        {
          "output_type": "stream",
          "name": "stdout",
          "text": [
            "Original data shape: torch.Size([721, 1440])\n",
            "Regridded HEALPix shape (flat): torch.Size([49152])\n",
            "Regridded HEALPix shape (faces): torch.Size([12, 64, 64])\n"
          ]
        }
      ]
    },
    {
      "cell_type": "code",
      "source": [
        "import torch\n",
        "import earth2grid\n",
        "\n",
        "def latlon_to_healpix(data: torch.Tensor, level: int = 6, device: str = \"cpu\"):\n",
        "    \"\"\"\n",
        "    Regrid 2D lat-lon data to HEALPix format using earth2grid.\n",
        "\n",
        "    Args:\n",
        "        data (torch.Tensor): 2D tensor of shape [nlat, nlon].\n",
        "        level (int): HEALPix resolution level (default: 6 → nside=64).\n",
        "        device (str): Device to perform computation on (\"cpu\" or \"cuda\").\n",
        "\n",
        "    Returns:\n",
        "        data_hpx (torch.Tensor): Flat HEALPix data of shape [12 * nside * nside].\n",
        "        data_faces (torch.Tensor): Reshaped HEALPix data of shape [12, nside, nside].\n",
        "    \"\"\"\n",
        "    # Make sure data is on the correct device\n",
        "    data = data.to(device)\n",
        "\n",
        "    # Get source grid matching data shape\n",
        "    nlat, nlon = data.shape\n",
        "    src = earth2grid.latlon.equiangular_lat_lon_grid(nlat, nlon)\n",
        "\n",
        "    # Create HEALPix target grid\n",
        "    hpx = earth2grid.healpix.Grid(level=level, pixel_order=earth2grid.healpix.XY())\n",
        "    nside = 2 ** level\n",
        "\n",
        "    # Create and prepare regridder\n",
        "    regrid = earth2grid.get_regridder(src, hpx)\n",
        "    regrid.to(data)\n",
        "\n",
        "    # Perform regridding\n",
        "    data_hpx = regrid(data)\n",
        "    data_faces = data_hpx.reshape(12, nside, nside)\n",
        "\n",
        "    return data_hpx, data_faces"
      ],
      "metadata": {
        "id": "sL1xoRacjE-r"
      },
      "execution_count": 29,
      "outputs": []
    },
    {
      "cell_type": "code",
      "source": [
        "# Example data: 721 x 1440 grid\n",
        "data = torch.ones([721, 1440])\n",
        "\n",
        "# Regrid to HEALPix level 6\n",
        "data_hpx, data_faces = latlon_to_healpix(data, level=6)\n",
        "\n",
        "print(\"Flat HEALPix shape:\", data_hpx.shape)       # torch.Size([49152])\n",
        "print(\"Face-wise shape:\", data_faces.shape)        # torch.Size([12, 64, 64])"
      ],
      "metadata": {
        "colab": {
          "base_uri": "https://localhost:8080/"
        },
        "id": "9vbENCVMjHEz",
        "outputId": "29dd5b75-6938-41e9-d5ef-c731a01a6c04"
      },
      "execution_count": 30,
      "outputs": [
        {
          "output_type": "stream",
          "name": "stdout",
          "text": [
            "Flat HEALPix shape: torch.Size([49152])\n",
            "Face-wise shape: torch.Size([12, 64, 64])\n"
          ]
        }
      ]
    },
    {
      "cell_type": "markdown",
      "source": [
        "# Healpix to lat-lon"
      ],
      "metadata": {
        "id": "77ALcfOrif78"
      }
    },
    {
      "cell_type": "code",
      "source": [
        "import torch\n",
        "import earth2grid\n",
        "\n",
        "def healpix_to_latlon(data_hpx: torch.Tensor,\n",
        "                      level: int,\n",
        "                      nlat: int = 721,\n",
        "                      nlon: int = 1440,\n",
        "                      device: str = \"cpu\"):\n",
        "    \"\"\"\n",
        "    Regrid HEALPix data (flat or [12, nside, nside]) to a 2D lat-lon grid.\n",
        "\n",
        "    Args:\n",
        "        data_hpx (torch.Tensor): HEALPix data, either shape [12, nside, nside] or [12*nside*nside].\n",
        "        level (int): HEALPix level (e.g., 6 → nside=64).\n",
        "        nlat (int): Number of latitude points in target grid.\n",
        "        nlon (int): Number of longitude points in target grid.\n",
        "        device (str): \"cpu\" or \"cuda\".\n",
        "\n",
        "    Returns:\n",
        "        torch.Tensor: Regridded data on lat-lon grid of shape [nlat, nlon].\n",
        "    \"\"\"\n",
        "    nside = 2 ** level\n",
        "\n",
        "    # Convert [12, nside, nside] to flat [12*nside*nside]\n",
        "    if data_hpx.ndim == 3 and data_hpx.shape[0] == 12:\n",
        "        data_hpx = data_hpx.reshape(-1)\n",
        "\n",
        "    # Validate input shape\n",
        "    expected_len = 12 * nside * nside\n",
        "    if data_hpx.numel() != expected_len:\n",
        "        raise ValueError(f\"Expected HEALPix data with {expected_len} values, got {data_hpx.numel()}.\")\n",
        "\n",
        "    # Create HEALPix source grid\n",
        "    hpx = earth2grid.healpix.Grid(level=level, pixel_order=earth2grid.healpix.XY())\n",
        "\n",
        "    # Create target lat-lon grid\n",
        "    latlon = earth2grid.latlon.equiangular_lat_lon_grid(nlat, nlon)\n",
        "\n",
        "    # Create and run regridder\n",
        "    regrid = earth2grid.get_regridder(hpx, latlon)\n",
        "    regrid.to(data_hpx.to(device))\n",
        "\n",
        "    # Perform the regridding\n",
        "    data_latlon = regrid(data_hpx)\n",
        "\n",
        "    return data_latlon"
      ],
      "metadata": {
        "id": "gMTdgOfch8br"
      },
      "execution_count": 33,
      "outputs": []
    },
    {
      "cell_type": "code",
      "source": [
        "# Create dummy HEALPix data in face shape\n",
        "level = 6\n",
        "nside = 2 ** level\n",
        "data_faces = torch.randn(12, nside, nside)\n",
        "\n",
        "# Regrid to lat-lon (e.g., 721x1440)\n",
        "data_latlon = healpix_to_latlon(data_faces, level=level, nlat=721, nlon=1440)\n",
        "\n",
        "print(\"Lat-lon shape:\", data_latlon.shape)  # torch.Size([721, 1440])"
      ],
      "metadata": {
        "colab": {
          "base_uri": "https://localhost:8080/"
        },
        "id": "-ZPq7y4OlWzc",
        "outputId": "c03c4493-5ea4-43f1-9332-53c676628776"
      },
      "execution_count": 34,
      "outputs": [
        {
          "output_type": "stream",
          "name": "stdout",
          "text": [
            "Lat-lon shape: torch.Size([721, 1440])\n"
          ]
        }
      ]
    },
    {
      "cell_type": "code",
      "source": [],
      "metadata": {
        "id": "A46bQCg5ldfb"
      },
      "execution_count": null,
      "outputs": []
    }
  ]
}